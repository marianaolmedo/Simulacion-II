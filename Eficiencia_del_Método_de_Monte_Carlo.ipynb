{
  "nbformat": 4,
  "nbformat_minor": 0,
  "metadata": {
    "colab": {
      "provenance": [],
      "authorship_tag": "ABX9TyNPW/OqqqdJM9sqWHGMITO0",
      "include_colab_link": true
    },
    "kernelspec": {
      "name": "python3",
      "display_name": "Python 3"
    },
    "language_info": {
      "name": "python"
    }
  },
  "cells": [
    {
      "cell_type": "markdown",
      "metadata": {
        "id": "view-in-github",
        "colab_type": "text"
      },
      "source": [
        "<a href=\"https://colab.research.google.com/github/marianaolmedo/Simulacion-II/blob/main/Eficiencia_del_M%C3%A9todo_de_Monte_Carlo.ipynb\" target=\"_parent\"><img src=\"https://colab.research.google.com/assets/colab-badge.svg\" alt=\"Open In Colab\"/></a>"
      ]
    },
    {
      "cell_type": "markdown",
      "source": [
        "**Eficiencia del Método de Monte Carlo**"
      ],
      "metadata": {
        "id": "aP6Sy2yfRZu0"
      }
    },
    {
      "cell_type": "code",
      "execution_count": 21,
      "metadata": {
        "id": "0wzow1L-HKIr"
      },
      "outputs": [],
      "source": [
        "import numpy as np\n",
        "import matplotlib.pyplot as plt\n",
        "import random as rd\n",
        "import timeit as tt"
      ]
    },
    {
      "cell_type": "code",
      "source": [
        "def g(x):\n",
        "  return np.sqrt(np.arctan(x))"
      ],
      "metadata": {
        "id": "qbjb2X-fHaFM"
      },
      "execution_count": 22,
      "outputs": []
    },
    {
      "cell_type": "markdown",
      "source": [
        "**Método de Monte Carlo por acierto y error**\n",
        "\n",
        "\n",
        "*   Consiste en generar puntos aleatorios dentro de un rectángulo que encierra a la función.\n",
        "*   Se cuentan los aciertos (los puntos que caen debajo de la curva).\n",
        "*   La proporción de aciertos respecto al total de puntos es una estimación del área bajo la curva, es decir, de la integral.\n",
        "*   Repitiendo el experimento varias veces se obtiene un promedio, junto con medidas de dispersión (varianza y desviación estándar) que indican la precisión del método.\n",
        "\n",
        "\n",
        "\n"
      ],
      "metadata": {
        "id": "7_VdX6doIvCF"
      }
    },
    {
      "cell_type": "code",
      "source": [
        "def estimacion1(n):\n",
        "  aciertos = 0\n",
        "  for i in range (n):\n",
        "    x = rd.random()\n",
        "    y = rd.random()\n",
        "    if y <= g(x):\n",
        "      aciertos += 1\n",
        "  I_1 = aciertos/(n)\n",
        "  return I_1"
      ],
      "metadata": {
        "id": "CwT7hm-fHeCk"
      },
      "execution_count": 23,
      "outputs": []
    },
    {
      "cell_type": "code",
      "source": [
        "estimacion1(1000)"
      ],
      "metadata": {
        "colab": {
          "base_uri": "https://localhost:8080/"
        },
        "id": "R-lV8I55Id1i",
        "outputId": "ed32f2ac-9203-4941-837a-7ceb4b4951a3"
      },
      "execution_count": 24,
      "outputs": [
        {
          "output_type": "execute_result",
          "data": {
            "text/plain": [
              "0.636"
            ]
          },
          "metadata": {},
          "execution_count": 24
        }
      ]
    },
    {
      "cell_type": "code",
      "source": [
        "def MC_acierto_error(n,N):\n",
        "  start = tt.default_timer()\n",
        "  lista_1 = []\n",
        "  for i in range(N):\n",
        "    e1 = estimacion1(n)\n",
        "    lista_1.append(e1)\n",
        "  end = tt.default_timer()\n",
        "  tiempo_1 = end - start\n",
        "  return np.mean(lista_1), np.var(lista_1,ddof=1), np.std(lista_1), tiempo_1"
      ],
      "metadata": {
        "id": "QoB0EBUcJnrN"
      },
      "execution_count": 31,
      "outputs": []
    },
    {
      "cell_type": "markdown",
      "source": [
        "Donde \"n\" es: el tamaño de la muestra por experimento.\n",
        "\n",
        "Donde \"N\" es: número de repeticiones de la simulación."
      ],
      "metadata": {
        "id": "m4gvePnuTH1E"
      }
    },
    {
      "cell_type": "code",
      "source": [
        "# En el siguiente caso: Cada simulación se hace con 200 puntos (n=200) y hace 40 simulaciones (N=40).\n",
        "resultado_1 = MC_acierto_error(200, 40)\n",
        "print(\"Estimación promedio:\", resultado_1[0])\n",
        "print(\"Varianza:\", resultado_1[1])\n",
        "print(\"Desviación estándar:\", resultado_1[2])\n",
        "print(\"Tiempo:\", resultado_1[3])"
      ],
      "metadata": {
        "colab": {
          "base_uri": "https://localhost:8080/"
        },
        "id": "TZiEKIenQx7F",
        "outputId": "fd15d405-ba76-4ed0-ff44-046b0f65c291"
      },
      "execution_count": 34,
      "outputs": [
        {
          "output_type": "stream",
          "name": "stdout",
          "text": [
            "Estimación promedio: 0.637875\n",
            "Varianza: 0.001383189102564104\n",
            "Desviación estándar: 0.03672341725656807\n",
            "Tiempo: 0.02135821299998497\n"
          ]
        }
      ]
    },
    {
      "cell_type": "markdown",
      "source": [
        "**Método de Monte Carlo Crudo**"
      ],
      "metadata": {
        "id": "AAcML8QZUmRe"
      }
    },
    {
      "cell_type": "markdown",
      "source": [
        "Si queremos estimar\n",
        "$$I = \\int_0^1 g(x) dx$$\n",
        "se genera $n$ números aleatorios\n",
        "$$U_i \\sim U(0,1)$$\n",
        "y usando el estimador\n",
        "$$\\hat{Θ}= \\frac{1}{n} \\sum_{i=1}^n g(U_i)$$"
      ],
      "metadata": {
        "id": "bg85ciY4wQ7Z"
      }
    },
    {
      "cell_type": "markdown",
      "source": [
        "El método de Monte Carlo Crudo:\n",
        "\n",
        "\n",
        "*   Usa toda la información de las simulaciones (no descarta puntos como en acierto y error)\n",
        "*  Suele tener menor varianza, por lo que es más preciso con el mismo número de muestras\n"
      ],
      "metadata": {
        "id": "wPOfOON6xOny"
      }
    },
    {
      "cell_type": "code",
      "source": [
        "def estimacion_2(n):\n",
        "  G = []\n",
        "  for i in range(n):\n",
        "    u = rd.random()\n",
        "    G.append(g(u))\n",
        "  I_2 = sum(G)/n\n",
        "  return I_2"
      ],
      "metadata": {
        "id": "X3l8Vrivg8jA"
      },
      "execution_count": 27,
      "outputs": []
    },
    {
      "cell_type": "code",
      "source": [
        "def MC_crudo(n, N):\n",
        "    start = tt.default_timer()\n",
        "    lista_2 = []\n",
        "    for i in range(N):\n",
        "        e2 = estimacion_2(n)\n",
        "        lista_2.append(e2)\n",
        "    end = tt.default_timer()\n",
        "    tiempo_2 = end - start\n",
        "    return np.mean(lista_2), np.var(lista_2,ddof=1), np.std(lista_2), tiempo_2"
      ],
      "metadata": {
        "id": "nXp7VOGkkBrB"
      },
      "execution_count": 35,
      "outputs": []
    },
    {
      "cell_type": "code",
      "source": [
        "# En el siguiente caso: Cada simulación se hace con 200 puntos (n=200) y hace 40 simulaciones (N=40).\n",
        "resultado_2 = MC_crudo(200, 40)\n",
        "print(\"Estimación promedio:\", resultado_2[0])\n",
        "print(\"Varianza:\", resultado_2[1])\n",
        "print(\"Desviación estándar:\", resultado_2[2])\n",
        "print(\"Tiempo:\", resultado_2[3])"
      ],
      "metadata": {
        "colab": {
          "base_uri": "https://localhost:8080/"
        },
        "id": "pkrgKkLdkTBu",
        "outputId": "838ffb06-9d10-459e-9588-2896cfde1d45"
      },
      "execution_count": 36,
      "outputs": [
        {
          "output_type": "stream",
          "name": "stdout",
          "text": [
            "Estimación promedio: 0.6300694942412279\n",
            "Varianza: 0.00023209871619491186\n",
            "Desviación estándar: 0.015043146223115663\n",
            "Tiempo: 0.01826488899996548\n"
          ]
        }
      ]
    },
    {
      "cell_type": "markdown",
      "source": [
        "**Eficiencia**"
      ],
      "metadata": {
        "id": "Z08h15GqxilN"
      }
    },
    {
      "cell_type": "markdown",
      "source": [
        "Sabemos que $E(θ_1)=E(\\theta_2)=I$"
      ],
      "metadata": {
        "id": "V9DlV6wKl1Ot"
      }
    },
    {
      "cell_type": "markdown",
      "source": [
        "El primer método es más eficiente que el segundo si: $$ϵ=\\frac{t_1var\\theta_1}{t_2var\\theta_2}<1$$"
      ],
      "metadata": {
        "id": "arzB_HKRmGv9"
      }
    },
    {
      "cell_type": "code",
      "source": [
        "# Tiempo por experimento\n",
        "# tn = tiempo_n / N\n",
        "t1 = resultado_1[3] / 40\n",
        "t2 = resultado_2[3] / 40\n",
        "\n",
        "# Varianza\n",
        "var1 = resultado_1[1]\n",
        "var2 = resultado_2[1]\n",
        "\n",
        "# Eficiencia\n",
        "epsilon = (t1 * var1) / (t2 * var2)\n",
        "\n",
        "if epsilon < 1:\n",
        "    print(\"Conclusión: El método de Monte Carlo por acierto y error es más eficiente (ε < 1)\")\n",
        "elif epsilon > 1:\n",
        "    print(\"Conclusión: El método Crudo es más eficiente (ε > 1)\")\n",
        "else:\n",
        "    print(\"Conclusión: Ambos tienen eficiencia aproximadamente igual (ε = 1)\")"
      ],
      "metadata": {
        "colab": {
          "base_uri": "https://localhost:8080/"
        },
        "id": "7Mx90sfrr9FQ",
        "outputId": "c6696e6b-e115-4686-f432-4953d4e2302d"
      },
      "execution_count": 37,
      "outputs": [
        {
          "output_type": "stream",
          "name": "stdout",
          "text": [
            "Conclusión: El método Crudo es más eficiente (ε > 1)\n"
          ]
        }
      ]
    }
  ]
}