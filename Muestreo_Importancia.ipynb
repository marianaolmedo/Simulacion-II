{
  "nbformat": 4,
  "nbformat_minor": 0,
  "metadata": {
    "colab": {
      "provenance": [],
      "authorship_tag": "ABX9TyOyD6TOyXviIqKGqLa+/w95",
      "include_colab_link": true
    },
    "kernelspec": {
      "name": "python3",
      "display_name": "Python 3"
    },
    "language_info": {
      "name": "python"
    }
  },
  "cells": [
    {
      "cell_type": "markdown",
      "metadata": {
        "id": "view-in-github",
        "colab_type": "text"
      },
      "source": [
        "<a href=\"https://colab.research.google.com/github/marianaolmedo/Simulacion-II/blob/main/Muestreo_Importancia.ipynb\" target=\"_parent\"><img src=\"https://colab.research.google.com/assets/colab-badge.svg\" alt=\"Open In Colab\"/></a>"
      ]
    },
    {
      "cell_type": "code",
      "source": [
        "import numpy as np\n",
        "import random as rd\n",
        "import time as tt"
      ],
      "metadata": {
        "id": "aWBEIPhg652A"
      },
      "execution_count": 26,
      "outputs": []
    },
    {
      "cell_type": "code",
      "source": [
        "def f(x):\n",
        "    return np.cos((x * np.pi) / 2)"
      ],
      "metadata": {
        "id": "QTXAlX4T7C7c"
      },
      "execution_count": 27,
      "outputs": []
    },
    {
      "cell_type": "code",
      "source": [
        "def g(x):\n",
        "    return (24 / (24 - np.pi ** 2)) * (1 - ((np.pi ** 2) * (x ** 2)) / 8)"
      ],
      "metadata": {
        "id": "KXwB-Sjq7HST"
      },
      "execution_count": 28,
      "outputs": []
    },
    {
      "cell_type": "markdown",
      "source": [
        "**Método de Monte Carlo Crudo**"
      ],
      "metadata": {
        "id": "Qsvxaemx80x1"
      }
    },
    {
      "cell_type": "code",
      "source": [
        "def estimacion_crudo(n):\n",
        "  G = []\n",
        "  for i in range(n):\n",
        "    u = rd.random()\n",
        "    G.append(f(u))\n",
        "  I = sum(G)/n\n",
        "  return I\n",
        "\n",
        "def MC_crudo(n, N):\n",
        "  start = tt.perf_counter()\n",
        "  lista = []\n",
        "  for i in range(N):\n",
        "    e = estimacion_crudo(n)\n",
        "    lista.append(e)\n",
        "  end = tt.perf_counter()\n",
        "  tiempo = end - start\n",
        "  return np.mean(lista), np.var(lista, ddof=1), np.std(lista, ddof=1), tiempo"
      ],
      "metadata": {
        "id": "iWy_dTiH9AJ6"
      },
      "execution_count": 29,
      "outputs": []
    },
    {
      "cell_type": "markdown",
      "source": [
        "**Muestreo por Importancia**"
      ],
      "metadata": {
        "id": "CUd3C83P_0Qy"
      }
    },
    {
      "cell_type": "code",
      "source": [
        "def muestra_g(n):\n",
        "    c = 24 / (24 - np.pi ** 2)\n",
        "    muestras = []\n",
        "    while len(muestras) < n:\n",
        "        u = rd.random()\n",
        "        w = rd.uniform(0, c)\n",
        "        if w <= g(u):\n",
        "            muestras.append(u)\n",
        "    return np.array(muestras)"
      ],
      "metadata": {
        "id": "t7NmN0IDBlTp"
      },
      "execution_count": 30,
      "outputs": []
    },
    {
      "cell_type": "code",
      "source": [
        "def estimacion_importancia(n):\n",
        "  G_2 = []\n",
        "  u_2 = muestra_g(n)\n",
        "  for i in u_2:\n",
        "    G_2.append(f(i)/g(i))\n",
        "  I_2 = sum(G_2)/n\n",
        "  return I_2"
      ],
      "metadata": {
        "id": "56tprBC_BpLb"
      },
      "execution_count": 31,
      "outputs": []
    },
    {
      "cell_type": "code",
      "source": [
        "def MC_importancia(n, N):\n",
        "    start = tt.perf_counter()\n",
        "    lista = []\n",
        "    for i in range(N):\n",
        "        e_2 = estimacion_importancia(n)\n",
        "        lista.append(e_2)\n",
        "    end = tt.perf_counter()\n",
        "    tiempo = end - start\n",
        "    return np.mean(lista), np.var(lista, ddof=1), np.std(lista, ddof=1), tiempo"
      ],
      "metadata": {
        "id": "d76QNfEe_6gE"
      },
      "execution_count": 32,
      "outputs": []
    },
    {
      "cell_type": "markdown",
      "source": [
        "**Comparación de ambos métodos**"
      ],
      "metadata": {
        "id": "K96Sn6Fh9kBu"
      }
    },
    {
      "cell_type": "code",
      "source": [
        "n = 200     # Cada simulación se hace con 200 puntos\n",
        "N = 40      # Hace 40 simulaciones\n",
        "\n",
        "resultado_crudo = MC_crudo(n, N)\n",
        "resultado_mi= MC_importancia(n, N)\n",
        "\n",
        "reduccion = (1 - resultado_mi[1] / resultado_crudo[1]) * 100\n",
        "\n",
        "print(\"=== Resultados MC Crudo ===\")\n",
        "print(\"Estimación promedio:\", resultado_crudo[0])\n",
        "print(\"Varianza:\", resultado_crudo[1])\n",
        "print(\"Desviación estándar:\", resultado_crudo[2])\n",
        "print(\"Tiempo:\", resultado_crudo[3])\n",
        "\n",
        "print(\"\\n=== Resultados Muestreo por Importancia ===\")\n",
        "print(\"Estimación promedio:\", resultado_mi[0])\n",
        "print(\"Varianza:\", resultado_mi[1])\n",
        "print(\"Desviación estándar:\", resultado_mi[2])\n",
        "print(\"Tiempo:\", resultado_mi[3])\n",
        "\n",
        "print(f\"\\nReducción porcentual de la varianza: {reduccion:.2f}%\")\n"
      ],
      "metadata": {
        "colab": {
          "base_uri": "https://localhost:8080/"
        },
        "id": "mafYgP7N92ki",
        "outputId": "5426a5f6-6b85-4b3c-cc8b-162a50701acb"
      },
      "execution_count": 33,
      "outputs": [
        {
          "output_type": "stream",
          "name": "stdout",
          "text": [
            "=== Resultados MC Crudo ===\n",
            "Estimación promedio: 0.6359106190816763\n",
            "Varianza: 0.0003248746057489647\n",
            "Desviación estándar: 0.018024278231012877\n",
            "Tiempo: 0.01499074200000905\n",
            "\n",
            "=== Resultados Muestreo por Importancia ===\n",
            "Estimación promedio: 0.6156056061379535\n",
            "Varianza: 4.9757095206917536e-05\n",
            "Desviación estándar: 0.00705387093778427\n",
            "Tiempo: 0.03956077600014396\n",
            "\n",
            "Reducción porcentual de la varianza: 84.68%\n"
          ]
        }
      ]
    }
  ]
}