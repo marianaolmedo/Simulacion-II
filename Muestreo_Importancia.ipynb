{
  "nbformat": 4,
  "nbformat_minor": 0,
  "metadata": {
    "colab": {
      "provenance": [],
      "include_colab_link": true
    },
    "kernelspec": {
      "name": "python3",
      "display_name": "Python 3"
    },
    "language_info": {
      "name": "python"
    }
  },
  "cells": [
    {
      "cell_type": "markdown",
      "metadata": {
        "id": "view-in-github",
        "colab_type": "text"
      },
      "source": [
        "<a href=\"https://colab.research.google.com/github/marianaolmedo/Simulacion-II/blob/main/Muestreo_Importancia.ipynb\" target=\"_parent\"><img src=\"https://colab.research.google.com/assets/colab-badge.svg\" alt=\"Open In Colab\"/></a>"
      ]
    },
    {
      "cell_type": "code",
      "source": [
        "import numpy as np\n",
        "import random as rd\n",
        "import time as tt"
      ],
      "metadata": {
        "id": "aWBEIPhg652A"
      },
      "execution_count": null,
      "outputs": []
    },
    {
      "cell_type": "code",
      "source": [
        "def f(x):\n",
        "    return np.cos((x * np.pi) / 2)"
      ],
      "metadata": {
        "id": "QTXAlX4T7C7c"
      },
      "execution_count": null,
      "outputs": []
    },
    {
      "cell_type": "code",
      "source": [
        "def g(x):\n",
        "    return (24 / (24 - np.pi ** 2)) * (1 - ((np.pi ** 2) * (x ** 2)) / 8)"
      ],
      "metadata": {
        "id": "KXwB-Sjq7HST"
      },
      "execution_count": null,
      "outputs": []
    },
    {
      "cell_type": "markdown",
      "source": [
        "**Método de Monte Carlo Crudo**"
      ],
      "metadata": {
        "id": "Qsvxaemx80x1"
      }
    },
    {
      "cell_type": "markdown",
      "source": [
        "Si queremos estimar\n",
        "$$I = \\int_0^1 f(x) dx$$\n",
        "se genera $n$ números aleatorios\n",
        "$$U_i \\sim U(0,1)$$\n",
        "y usando el estimador\n",
        "$$\\hat{Θ}= \\frac{1}{n} \\sum_{i=1}^n f(U_i)$$"
      ],
      "metadata": {
        "id": "ixZIt66VMT0F"
      }
    },
    {
      "cell_type": "code",
      "source": [
        "def estimacion_crudo(n):\n",
        "  G = []\n",
        "  for i in range(n):\n",
        "    u = rd.random()\n",
        "    G.append(f(u))\n",
        "  I = sum(G)/n\n",
        "  return I\n",
        "\n",
        "def MC_crudo(n, N):\n",
        "  start = tt.perf_counter()\n",
        "  lista = []\n",
        "  for i in range(N):\n",
        "    e = estimacion_crudo(n)\n",
        "    lista.append(e)\n",
        "  end = tt.perf_counter()\n",
        "  tiempo = end - start\n",
        "  return np.mean(lista), np.var(lista, ddof=1), np.std(lista, ddof=1), tiempo"
      ],
      "metadata": {
        "id": "iWy_dTiH9AJ6"
      },
      "execution_count": null,
      "outputs": []
    },
    {
      "cell_type": "markdown",
      "source": [
        "**Muestreo por Importancia**"
      ],
      "metadata": {
        "id": "CUd3C83P_0Qy"
      }
    },
    {
      "cell_type": "markdown",
      "source": [
        "Si queremos estimar\n",
        "$$I = \\int_0^1 f(x) dx$$\n",
        "podemos reescribirla multiplicando y dividiendo por una función de densidad $g(x)$\n",
        "$$I = ∫_0^1 \\frac{f(x)}{g(x)} g(x) dx = \\mathbb{E}_g \\left[\\frac{f(x)}{g(x)}\\right]$$\n",
        "donde\n",
        "$$X \\sim g(x)$$\n",
        "y usando el estimador\n",
        "$$\\hat{Θ}_{IS}= \\frac{1}{n} \\sum_{i=1}^n \\frac{f(X_i)}{g(X_i)}$$"
      ],
      "metadata": {
        "id": "4YLSvN3uMYly"
      }
    },
    {
      "cell_type": "code",
      "source": [
        "def muestra_g(n):\n",
        "    c = 24 / (24 - np.pi ** 2)\n",
        "    muestras = []\n",
        "    while len(muestras) < n:\n",
        "        u_2 = rd.random()\n",
        "        w_2 = rd.uniform(0, c)\n",
        "        if w_2 <= g(u_2):\n",
        "            muestras.append(u_2)\n",
        "    return np.array(muestras)"
      ],
      "metadata": {
        "id": "t7NmN0IDBlTp"
      },
      "execution_count": 9,
      "outputs": []
    },
    {
      "cell_type": "code",
      "source": [
        "def estimacion_importancia(n):\n",
        "  G_2 = []\n",
        "  u_3 = muestra_g(n)\n",
        "  for i in u_3:\n",
        "    G_2.append(f(i)/g(i))\n",
        "  I_2 = sum(G_2)/n\n",
        "  return I_2"
      ],
      "metadata": {
        "id": "56tprBC_BpLb"
      },
      "execution_count": 10,
      "outputs": []
    },
    {
      "cell_type": "code",
      "source": [
        "def MC_importancia(n, N):\n",
        "    start = tt.perf_counter()\n",
        "    lista2 = []\n",
        "    for i in range(N):\n",
        "        e_2 = estimacion_importancia(n)\n",
        "        lista2.append(e_2)\n",
        "    end = tt.perf_counter()\n",
        "    tiempo2 = end - start\n",
        "    return np.mean(lista2), np.var(lista2, ddof=1), np.std(lista2, ddof=1), tiempo2"
      ],
      "metadata": {
        "id": "d76QNfEe_6gE"
      },
      "execution_count": 11,
      "outputs": []
    },
    {
      "cell_type": "markdown",
      "source": [
        "**Comparación de ambos métodos**"
      ],
      "metadata": {
        "id": "K96Sn6Fh9kBu"
      }
    },
    {
      "cell_type": "code",
      "source": [
        "n = 200     # Cada simulación se hace con 200 puntos\n",
        "N = 40      # Hace 40 simulaciones\n",
        "\n",
        "resultado_crudo = MC_crudo(n, N)\n",
        "resultado_mi= MC_importancia(n, N)\n",
        "\n",
        "reduccion = (1 - resultado_mi[1] / resultado_crudo[1]) * 100\n",
        "\n",
        "print(\"=== Resultados MC Crudo ===\")\n",
        "print(\"Estimación promedio:\", resultado_crudo[0])\n",
        "print(\"Varianza:\", resultado_crudo[1])\n",
        "print(\"Desviación estándar:\", resultado_crudo[2])\n",
        "print(\"Tiempo:\", resultado_crudo[3])\n",
        "\n",
        "print(\"\\n=== Resultados Muestreo por Importancia ===\")\n",
        "print(\"Estimación promedio:\", resultado_mi[0])\n",
        "print(\"Varianza:\", resultado_mi[1])\n",
        "print(\"Desviación estándar:\", resultado_mi[2])\n",
        "print(\"Tiempo:\", resultado_mi[3])\n",
        "\n",
        "print(f\"\\nReducción porcentual de la varianza: {reduccion:.2f}%\")\n"
      ],
      "metadata": {
        "colab": {
          "base_uri": "https://localhost:8080/"
        },
        "id": "mafYgP7N92ki",
        "outputId": "353bc5c3-96fe-4d86-c2cf-bbecc118c0e4"
      },
      "execution_count": 12,
      "outputs": [
        {
          "output_type": "stream",
          "name": "stdout",
          "text": [
            "=== Resultados MC Crudo ===\n",
            "Estimación promedio: 0.6330037626656436\n",
            "Varianza: 0.0004897905744542134\n",
            "Desviación estándar: 0.02213121267473189\n",
            "Tiempo: 0.01054835899998352\n",
            "\n",
            "=== Resultados Muestreo por Importancia ===\n",
            "Estimación promedio: 0.6155471817552516\n",
            "Varianza: 5.976314141761802e-05\n",
            "Desviación estándar: 0.0077306624177762425\n",
            "Tiempo: 0.035992537000026914\n",
            "\n",
            "Reducción porcentual de la varianza: 87.80%\n"
          ]
        }
      ]
    }
  ]
}